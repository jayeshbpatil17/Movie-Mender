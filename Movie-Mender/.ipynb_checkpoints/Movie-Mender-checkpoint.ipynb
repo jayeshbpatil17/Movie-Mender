{
 "cells": [
  {
   "cell_type": "markdown",
   "metadata": {},
   "source": []
  },
  {
   "cell_type": "markdown",
   "metadata": {},
   "source": []
  },
  {
   "cell_type": "code",
   "execution_count": 1,
   "metadata": {
    "_cell_guid": "b1076dfc-b9ad-4769-8c92-a6c4dae69d19",
    "_uuid": "8f2839f25d086af736a60e9eeb907d3b93b6e0e5",
    "execution": {
     "iopub.execute_input": "2020-08-20T11:29:09.119159Z",
     "iopub.status.busy": "2020-08-20T11:29:09.118348Z",
     "iopub.status.idle": "2020-08-20T11:29:10.141102Z",
     "shell.execute_reply": "2020-08-20T11:29:10.140326Z"
    },
    "papermill": {
     "duration": 1.040389,
     "end_time": "2020-08-20T11:29:10.141242",
     "exception": false,
     "start_time": "2020-08-20T11:29:09.100853",
     "status": "completed"
    },
    "tags": []
   },
   "outputs": [],
   "source": [
    "import pandas as pd\n",
    "import matplotlib.pyplot as plt\n",
    "plt.style.use('fivethirtyeight')\n",
    "import seaborn as sns\n",
    "import numpy as np\n",
    "import json\n",
    "import warnings\n",
    "warnings.filterwarnings('ignore')\n",
    "import base64\n",
    "import io\n",
    "from matplotlib.pyplot import imread\n",
    "import codecs\n",
    "from IPython.display import HTML"
   ]
  },
  {
   "cell_type": "code",
   "execution_count": 2,
   "metadata": {
    "_cell_guid": "79c7e3d0-c299-4dcb-8224-4455121ee9b0",
    "_uuid": "d629ff2d2480ee46fbb7e2d37f6b5fab8052498a",
    "execution": {
     "iopub.execute_input": "2020-08-20T11:29:10.218415Z",
     "iopub.status.busy": "2020-08-20T11:29:10.217718Z",
     "iopub.status.idle": "2020-08-20T11:29:10.725712Z",
     "shell.execute_reply": "2020-08-20T11:29:10.724786Z"
    },
    "papermill": {
     "duration": 0.552484,
     "end_time": "2020-08-20T11:29:10.725964",
     "exception": false,
     "start_time": "2020-08-20T11:29:10.173480",
     "status": "completed"
    },
    "tags": []
   },
   "outputs": [],
   "source": [
    "movies = pd.read_csv('input/tmdb-movie-metadata/tmdb_5000_movies.csv')\n",
    "credits = pd.read_csv('input/tmdb-movie-metadata/tmdb_5000_credits.csv')"
   ]
  },
  {
   "cell_type": "code",
   "execution_count": 3,
   "metadata": {
    "execution": {
     "iopub.execute_input": "2020-08-20T11:29:10.796536Z",
     "iopub.status.busy": "2020-08-20T11:29:10.795647Z",
     "iopub.status.idle": "2020-08-20T11:29:10.811965Z",
     "shell.execute_reply": "2020-08-20T11:29:10.812458Z"
    },
    "papermill": {
     "duration": 0.049991,
     "end_time": "2020-08-20T11:29:10.812611",
     "exception": false,
     "start_time": "2020-08-20T11:29:10.762620",
     "status": "completed"
    },
    "tags": []
   },
   "outputs": [],
   "source": [
    "#movies.head()"
   ]
  },
  {
   "cell_type": "code",
   "execution_count": 4,
   "metadata": {
    "execution": {
     "iopub.execute_input": "2020-08-20T11:29:10.849938Z",
     "iopub.status.busy": "2020-08-20T11:29:10.848899Z",
     "iopub.status.idle": "2020-08-20T11:29:10.882178Z",
     "shell.execute_reply": "2020-08-20T11:29:10.880792Z"
    },
    "papermill": {
     "duration": 0.05866,
     "end_time": "2020-08-20T11:29:10.882579",
     "exception": false,
     "start_time": "2020-08-20T11:29:10.823919",
     "status": "completed"
    },
    "tags": []
   },
   "outputs": [],
   "source": [
    "#movies.describe()"
   ]
  },
  {
   "cell_type": "code",
   "execution_count": 5,
   "metadata": {
    "execution": {
     "iopub.execute_input": "2020-08-20T11:29:10.931162Z",
     "iopub.status.busy": "2020-08-20T11:29:10.930216Z",
     "iopub.status.idle": "2020-08-20T11:29:10.935612Z",
     "shell.execute_reply": "2020-08-20T11:29:10.934994Z"
    },
    "papermill": {
     "duration": 0.03404,
     "end_time": "2020-08-20T11:29:10.935732",
     "exception": false,
     "start_time": "2020-08-20T11:29:10.901692",
     "status": "completed"
    },
    "tags": []
   },
   "outputs": [],
   "source": [
    "#credits.head()"
   ]
  },
  {
   "cell_type": "code",
   "execution_count": 6,
   "metadata": {
    "execution": {
     "iopub.execute_input": "2020-08-20T11:29:10.973754Z",
     "iopub.status.busy": "2020-08-20T11:29:10.972754Z",
     "iopub.status.idle": "2020-08-20T11:29:10.983514Z",
     "shell.execute_reply": "2020-08-20T11:29:10.982560Z"
    },
    "papermill": {
     "duration": 0.036117,
     "end_time": "2020-08-20T11:29:10.983691",
     "exception": false,
     "start_time": "2020-08-20T11:29:10.947574",
     "status": "completed"
    },
    "tags": []
   },
   "outputs": [],
   "source": [
    "#credits.describe()"
   ]
  },
  {
   "cell_type": "code",
   "execution_count": 7,
   "metadata": {
    "execution": {
     "iopub.execute_input": "2020-08-20T11:29:11.145221Z",
     "iopub.status.busy": "2020-08-20T11:29:11.138440Z",
     "iopub.status.idle": "2020-08-20T11:29:20.728673Z",
     "shell.execute_reply": "2020-08-20T11:29:20.728084Z"
    },
    "papermill": {
     "duration": 9.704963,
     "end_time": "2020-08-20T11:29:20.728793",
     "exception": false,
     "start_time": "2020-08-20T11:29:11.023830",
     "status": "completed"
    },
    "tags": []
   },
   "outputs": [],
   "source": [
    "# changing the genres column from json to string\n",
    "movies['genres'] = movies['genres'].apply(json.loads)\n",
    "for index,i in zip(movies.index,movies['genres']):\n",
    "    list1 = []\n",
    "    for j in range(len(i)):\n",
    "        list1.append((i[j]['name'])) # the key 'name' contains the name of the genre\n",
    "    movies.loc[index,'genres'] = str(list1)\n",
    "\n",
    "# changing the keywords column from json to string\n",
    "movies['keywords'] = movies['keywords'].apply(json.loads)\n",
    "for index,i in zip(movies.index,movies['keywords']):\n",
    "    list1 = []\n",
    "    for j in range(len(i)):\n",
    "        list1.append((i[j]['name']))\n",
    "    movies.loc[index,'keywords'] = str(list1)\n",
    "    \n",
    "# changing the production_companies column from json to string\n",
    "movies['production_companies'] = movies['production_companies'].apply(json.loads)\n",
    "for index,i in zip(movies.index,movies['production_companies']):\n",
    "    list1 = []\n",
    "    for j in range(len(i)):\n",
    "        list1.append((i[j]['name']))\n",
    "    movies.loc[index,'production_companies'] = str(list1)\n",
    "\n",
    "# changing the cast column from json to string\n",
    "credits['cast'] = credits['cast'].apply(json.loads)\n",
    "for index,i in zip(credits.index,credits['cast']):\n",
    "    list1 = []\n",
    "    for j in range(len(i)):\n",
    "        list1.append((i[j]['name']))\n",
    "    credits.loc[index,'cast'] = str(list1)\n",
    "\n",
    "# changing the crew column from json to string    \n",
    "credits['crew'] = credits['crew'].apply(json.loads)\n",
    "def director(x):\n",
    "    for i in x:\n",
    "        if i['job'] == 'Director':\n",
    "            return i['name']\n",
    "credits['crew'] = credits['crew'].apply(director)\n",
    "credits.rename(columns={'crew':'director'},inplace=True)"
   ]
  },
  {
   "cell_type": "code",
   "execution_count": 8,
   "metadata": {
    "execution": {
     "iopub.execute_input": "2020-08-20T11:29:20.776512Z",
     "iopub.status.busy": "2020-08-20T11:29:20.775481Z",
     "iopub.status.idle": "2020-08-20T11:29:20.780560Z",
     "shell.execute_reply": "2020-08-20T11:29:20.779939Z"
    },
    "papermill": {
     "duration": 0.039559,
     "end_time": "2020-08-20T11:29:20.780676",
     "exception": false,
     "start_time": "2020-08-20T11:29:20.741117",
     "status": "completed"
    },
    "tags": []
   },
   "outputs": [],
   "source": [
    "#movies.head()"
   ]
  },
  {
   "cell_type": "code",
   "execution_count": 9,
   "metadata": {
    "execution": {
     "iopub.execute_input": "2020-08-20T11:29:20.813360Z",
     "iopub.status.busy": "2020-08-20T11:29:20.812640Z",
     "iopub.status.idle": "2020-08-20T11:29:20.816956Z",
     "shell.execute_reply": "2020-08-20T11:29:20.817414Z"
    },
    "papermill": {
     "duration": 0.024206,
     "end_time": "2020-08-20T11:29:20.817586",
     "exception": false,
     "start_time": "2020-08-20T11:29:20.793380",
     "status": "completed"
    },
    "tags": []
   },
   "outputs": [],
   "source": [
    "#movies.iloc[25]"
   ]
  },
  {
   "cell_type": "code",
   "execution_count": 10,
   "metadata": {
    "execution": {
     "iopub.execute_input": "2020-08-20T11:29:20.874385Z",
     "iopub.status.busy": "2020-08-20T11:29:20.873678Z",
     "iopub.status.idle": "2020-08-20T11:29:20.901373Z",
     "shell.execute_reply": "2020-08-20T11:29:20.900604Z"
    },
    "papermill": {
     "duration": 0.046231,
     "end_time": "2020-08-20T11:29:20.901500",
     "exception": false,
     "start_time": "2020-08-20T11:29:20.855269",
     "status": "completed"
    },
    "tags": []
   },
   "outputs": [],
   "source": [
    "movies = movies.merge(credits,left_on='id',right_on='movie_id',how='left')\n",
    "movies = movies[['id','original_title','genres','cast','vote_average','director','keywords']]"
   ]
  },
  {
   "cell_type": "code",
   "execution_count": 11,
   "metadata": {
    "execution": {
     "iopub.execute_input": "2020-08-20T11:29:20.934659Z",
     "iopub.status.busy": "2020-08-20T11:29:20.933762Z",
     "iopub.status.idle": "2020-08-20T11:29:20.938718Z",
     "shell.execute_reply": "2020-08-20T11:29:20.938047Z"
    },
    "papermill": {
     "duration": 0.024311,
     "end_time": "2020-08-20T11:29:20.938869",
     "exception": false,
     "start_time": "2020-08-20T11:29:20.914558",
     "status": "completed"
    },
    "tags": []
   },
   "outputs": [],
   "source": [
    "#movies.iloc[25]"
   ]
  },
  {
   "cell_type": "code",
   "execution_count": 12,
   "metadata": {
    "execution": {
     "iopub.execute_input": "2020-08-20T11:29:20.971115Z",
     "iopub.status.busy": "2020-08-20T11:29:20.970047Z",
     "iopub.status.idle": "2020-08-20T11:29:20.974442Z",
     "shell.execute_reply": "2020-08-20T11:29:20.973887Z"
    },
    "papermill": {
     "duration": 0.022529,
     "end_time": "2020-08-20T11:29:20.974564",
     "exception": false,
     "start_time": "2020-08-20T11:29:20.952035",
     "status": "completed"
    },
    "tags": []
   },
   "outputs": [
    {
     "data": {
      "text/plain": [
       "(4803, 7)"
      ]
     },
     "execution_count": 12,
     "metadata": {},
     "output_type": "execute_result"
    }
   ],
   "source": [
    "movies.shape"
   ]
  },
  {
   "cell_type": "code",
   "execution_count": 13,
   "metadata": {
    "execution": {
     "iopub.execute_input": "2020-08-20T11:29:21.006245Z",
     "iopub.status.busy": "2020-08-20T11:29:21.005502Z",
     "iopub.status.idle": "2020-08-20T11:29:21.010720Z",
     "shell.execute_reply": "2020-08-20T11:29:21.010213Z"
    },
    "papermill": {
     "duration": 0.023074,
     "end_time": "2020-08-20T11:29:21.010878",
     "exception": false,
     "start_time": "2020-08-20T11:29:20.987804",
     "status": "completed"
    },
    "tags": []
   },
   "outputs": [
    {
     "data": {
      "text/plain": [
       "33621"
      ]
     },
     "execution_count": 13,
     "metadata": {},
     "output_type": "execute_result"
    }
   ],
   "source": [
    "movies.size"
   ]
  },
  {
   "cell_type": "code",
   "execution_count": 14,
   "metadata": {
    "execution": {
     "iopub.execute_input": "2020-08-20T11:29:21.044162Z",
     "iopub.status.busy": "2020-08-20T11:29:21.043072Z",
     "iopub.status.idle": "2020-08-20T11:29:21.046517Z",
     "shell.execute_reply": "2020-08-20T11:29:21.047008Z"
    },
    "papermill": {
     "duration": 0.022937,
     "end_time": "2020-08-20T11:29:21.047170",
     "exception": false,
     "start_time": "2020-08-20T11:29:21.024233",
     "status": "completed"
    },
    "tags": []
   },
   "outputs": [
    {
     "data": {
      "text/plain": [
       "Int64Index([   0,    1,    2,    3,    4,    5,    6,    7,    8,    9,\n",
       "            ...\n",
       "            4793, 4794, 4795, 4796, 4797, 4798, 4799, 4800, 4801, 4802],\n",
       "           dtype='int64', length=4803)"
      ]
     },
     "execution_count": 14,
     "metadata": {},
     "output_type": "execute_result"
    }
   ],
   "source": [
    "movies.index"
   ]
  },
  {
   "cell_type": "code",
   "execution_count": 15,
   "metadata": {
    "execution": {
     "iopub.execute_input": "2020-08-20T11:29:21.080488Z",
     "iopub.status.busy": "2020-08-20T11:29:21.079694Z",
     "iopub.status.idle": "2020-08-20T11:29:21.084052Z",
     "shell.execute_reply": "2020-08-20T11:29:21.083421Z"
    },
    "papermill": {
     "duration": 0.023241,
     "end_time": "2020-08-20T11:29:21.084171",
     "exception": false,
     "start_time": "2020-08-20T11:29:21.060930",
     "status": "completed"
    },
    "tags": []
   },
   "outputs": [
    {
     "data": {
      "text/plain": [
       "Index(['id', 'original_title', 'genres', 'cast', 'vote_average', 'director',\n",
       "       'keywords'],\n",
       "      dtype='object')"
      ]
     },
     "execution_count": 15,
     "metadata": {},
     "output_type": "execute_result"
    }
   ],
   "source": [
    "movies.columns"
   ]
  },
  {
   "cell_type": "code",
   "execution_count": 16,
   "metadata": {
    "execution": {
     "iopub.execute_input": "2020-08-20T11:29:21.119399Z",
     "iopub.status.busy": "2020-08-20T11:29:21.118594Z",
     "iopub.status.idle": "2020-08-20T11:29:21.122934Z",
     "shell.execute_reply": "2020-08-20T11:29:21.122278Z"
    },
    "papermill": {
     "duration": 0.025018,
     "end_time": "2020-08-20T11:29:21.123058",
     "exception": false,
     "start_time": "2020-08-20T11:29:21.098040",
     "status": "completed"
    },
    "tags": []
   },
   "outputs": [
    {
     "data": {
      "text/plain": [
       "id                  int64\n",
       "original_title     object\n",
       "genres             object\n",
       "cast               object\n",
       "vote_average      float64\n",
       "director           object\n",
       "keywords           object\n",
       "dtype: object"
      ]
     },
     "execution_count": 16,
     "metadata": {},
     "output_type": "execute_result"
    }
   ],
   "source": [
    "movies.dtypes"
   ]
  },
  {
   "cell_type": "code",
   "execution_count": 17,
   "metadata": {
    "execution": {
     "iopub.execute_input": "2020-08-20T11:29:21.198661Z",
     "iopub.status.busy": "2020-08-20T11:29:21.197674Z",
     "iopub.status.idle": "2020-08-20T11:29:21.201066Z",
     "shell.execute_reply": "2020-08-20T11:29:21.200407Z"
    },
    "papermill": {
     "duration": 0.037913,
     "end_time": "2020-08-20T11:29:21.201190",
     "exception": false,
     "start_time": "2020-08-20T11:29:21.163277",
     "status": "completed"
    },
    "tags": []
   },
   "outputs": [],
   "source": [
    "movies['genres'] = movies['genres'].str.strip('[]').str.replace(' ','').str.replace(\"'\",'')\n",
    "movies['genres'] = movies['genres'].str.split(',')"
   ]
  },
  {
   "cell_type": "code",
   "execution_count": 18,
   "metadata": {
    "execution": {
     "iopub.execute_input": "2020-08-20T11:29:21.242051Z",
     "iopub.status.busy": "2020-08-20T11:29:21.241306Z",
     "iopub.status.idle": "2020-08-20T11:29:21.535207Z",
     "shell.execute_reply": "2020-08-20T11:29:21.534526Z"
    },
    "papermill": {
     "duration": 0.320121,
     "end_time": "2020-08-20T11:29:21.535337",
     "exception": false,
     "start_time": "2020-08-20T11:29:21.215216",
     "status": "completed"
    },
    "tags": []
   },
   "outputs": [
    {
     "data": {
      "text/plain": [
       "Text(0.5, 1.0, 'Top Genres')"
      ]
     },
     "execution_count": 18,
     "metadata": {},
     "output_type": "execute_result"
    },
    {
     "data": {
      "image/png": "[encoded data removed]",
      "text/plain": [
       "<Figure size 864x720 with 1 Axes>"
      ]
     },
     "metadata": {
      "needs_background": "light"
     },
     "output_type": "display_data"
    }
   ],
   "source": [
    "plt.subplots(figsize=(12,10))\n",
    "list1 = []\n",
    "for i in movies['genres']:\n",
    "    list1.extend(i)\n",
    "ax = pd.Series(list1).value_counts()[:10].sort_values(ascending=True).plot.barh(width=0.9,color=sns.color_palette('hls',10))\n",
    "for i, v in enumerate(pd.Series(list1).value_counts()[:10].sort_values(ascending=True).values): \n",
    "    ax.text(.8, i, v,fontsize=12,color='white',weight='bold')\n",
    "plt.title('Top Genres')\n",
    "#plt.show()"
   ]
  },
  {
   "cell_type": "markdown",
   "metadata": {
    "papermill": {
     "duration": 0.014201,
     "end_time": "2020-08-20T11:29:21.564637",
     "exception": false,
     "start_time": "2020-08-20T11:29:21.550436",
     "status": "completed"
    },
    "tags": []
   },
   "source": [
    "Drama appears to be the most popular genre followed by Comedy."
   ]
  },
  {
   "cell_type": "code",
   "execution_count": 19,
   "metadata": {
    "execution": {
     "iopub.execute_input": "2020-08-20T11:29:21.678470Z",
     "iopub.status.busy": "2020-08-20T11:29:21.664865Z",
     "iopub.status.idle": "2020-08-20T11:29:23.406477Z",
     "shell.execute_reply": "2020-08-20T11:29:23.405927Z"
    },
    "papermill": {
     "duration": 1.827609,
     "end_time": "2020-08-20T11:29:23.406624",
     "exception": false,
     "start_time": "2020-08-20T11:29:21.579015",
     "status": "completed"
    },
    "tags": []
   },
   "outputs": [],
   "source": [
    "for i,j in zip(movies['genres'],movies.index):\n",
    "    list2=[]\n",
    "    list2=i\n",
    "    list2.sort()\n",
    "    movies.loc[j,'genres']=str(list2)\n",
    "movies['genres'] = movies['genres'].str.strip('[]').str.replace(' ','').str.replace(\"'\",'')\n",
    "movies['genres'] = movies['genres'].str.split(',')"
   ]
  },
  {
   "cell_type": "markdown",
   "metadata": {
    "papermill": {
     "duration": 0.01402,
     "end_time": "2020-08-20T11:29:23.435433",
     "exception": false,
     "start_time": "2020-08-20T11:29:23.421413",
     "status": "completed"
    },
    "tags": []
   },
   "source": [
    "Now lets generate a list 'genreList' with all possible unique genres mentioned in the dataset.\n",
    "\n"
   ]
  },
  {
   "cell_type": "code",
   "execution_count": 20,
   "metadata": {
    "execution": {
     "iopub.execute_input": "2020-08-20T11:29:23.486588Z",
     "iopub.status.busy": "2020-08-20T11:29:23.481391Z",
     "iopub.status.idle": "2020-08-20T11:29:23.867331Z",
     "shell.execute_reply": "2020-08-20T11:29:23.866787Z"
    },
    "papermill": {
     "duration": 0.417719,
     "end_time": "2020-08-20T11:29:23.867453",
     "exception": false,
     "start_time": "2020-08-20T11:29:23.449734",
     "status": "completed"
    },
    "tags": []
   },
   "outputs": [
    {
     "data": {
      "text/plain": [
       "['Action',\n",
       " 'Adventure',\n",
       " 'Fantasy',\n",
       " 'ScienceFiction',\n",
       " 'Crime',\n",
       " 'Drama',\n",
       " 'Thriller',\n",
       " 'Animation',\n",
       " 'Family',\n",
       " 'Western']"
      ]
     },
     "execution_count": 20,
     "metadata": {},
     "output_type": "execute_result"
    }
   ],
   "source": [
    "genreList = []\n",
    "for index, row in movies.iterrows():\n",
    "    genres = row[\"genres\"]\n",
    "    \n",
    "    for genre in genres:\n",
    "        if genre not in genreList:\n",
    "            genreList.append(genre)\n",
    "genreList[:10] #now we have a list with unique genres"
   ]
  },
  {
   "cell_type": "code",
   "execution_count": 21,
   "metadata": {
    "execution": {
     "iopub.execute_input": "2020-08-20T11:29:23.930035Z",
     "iopub.status.busy": "2020-08-20T11:29:23.929308Z",
     "iopub.status.idle": "2020-08-20T11:29:23.932273Z",
     "shell.execute_reply": "2020-08-20T11:29:23.931722Z"
    },
    "papermill": {
     "duration": 0.02298,
     "end_time": "2020-08-20T11:29:23.932394",
     "exception": false,
     "start_time": "2020-08-20T11:29:23.909414",
     "status": "completed"
    },
    "tags": []
   },
   "outputs": [],
   "source": [
    "def binary(genre_list):\n",
    "    binaryList = []\n",
    "    \n",
    "    for genre in genreList:\n",
    "        if genre in genre_list:\n",
    "            binaryList.append(1)\n",
    "        else:\n",
    "            binaryList.append(0)\n",
    "    \n",
    "    return binaryList"
   ]
  },
  {
   "cell_type": "code",
   "execution_count": 22,
   "metadata": {
    "execution": {
     "iopub.execute_input": "2020-08-20T11:29:23.983292Z",
     "iopub.status.busy": "2020-08-20T11:29:23.977906Z",
     "iopub.status.idle": "2020-08-20T11:29:23.998997Z",
     "shell.execute_reply": "2020-08-20T11:29:23.998254Z"
    },
    "papermill": {
     "duration": 0.051904,
     "end_time": "2020-08-20T11:29:23.999130",
     "exception": false,
     "start_time": "2020-08-20T11:29:23.947226",
     "status": "completed"
    },
    "tags": []
   },
   "outputs": [
    {
     "data": {
      "text/plain": [
       "0    [1, 1, 1, 1, 0, 0, 0, 0, 0, 0, 0, 0, 0, 0, 0, ...\n",
       "1    [1, 1, 1, 0, 0, 0, 0, 0, 0, 0, 0, 0, 0, 0, 0, ...\n",
       "2    [1, 1, 0, 0, 1, 0, 0, 0, 0, 0, 0, 0, 0, 0, 0, ...\n",
       "3    [1, 0, 0, 0, 1, 1, 1, 0, 0, 0, 0, 0, 0, 0, 0, ...\n",
       "4    [1, 1, 0, 1, 0, 0, 0, 0, 0, 0, 0, 0, 0, 0, 0, ...\n",
       "Name: genres_bin, dtype: object"
      ]
     },
     "execution_count": 22,
     "metadata": {},
     "output_type": "execute_result"
    }
   ],
   "source": [
    "movies['genres_bin'] = movies['genres'].apply(lambda x: binary(x))\n",
    "movies['genres_bin'].head()"
   ]
  },
  {
   "cell_type": "code",
   "execution_count": 23,
   "metadata": {
    "execution": {
     "iopub.execute_input": "2020-08-20T11:29:24.102986Z",
     "iopub.status.busy": "2020-08-20T11:29:24.092149Z",
     "iopub.status.idle": "2020-08-20T11:29:24.115104Z",
     "shell.execute_reply": "2020-08-20T11:29:24.115651Z"
    },
    "papermill": {
     "duration": 0.072111,
     "end_time": "2020-08-20T11:29:24.115812",
     "exception": false,
     "start_time": "2020-08-20T11:29:24.043701",
     "status": "completed"
    },
    "tags": []
   },
   "outputs": [],
   "source": [
    "movies['cast'] = movies['cast'].str.strip('[]').str.replace(' ','').str.replace(\"'\",'').str.replace('\"','')\n",
    "movies['cast'] = movies['cast'].str.split(',')"
   ]
  },
  {
   "cell_type": "code",
   "execution_count": 24,
   "metadata": {
    "execution": {
     "iopub.execute_input": "2020-08-20T11:29:24.159381Z",
     "iopub.status.busy": "2020-08-20T11:29:24.153780Z",
     "iopub.status.idle": "2020-08-20T11:29:24.567898Z",
     "shell.execute_reply": "2020-08-20T11:29:24.567009Z"
    },
    "papermill": {
     "duration": 0.4375,
     "end_time": "2020-08-20T11:29:24.568077",
     "exception": false,
     "start_time": "2020-08-20T11:29:24.130577",
     "status": "completed"
    },
    "tags": []
   },
   "outputs": [
    {
     "data": {
      "image/png": "[encoded data removed]",
      "text/plain": [
       "<Figure size 864x720 with 1 Axes>"
      ]
     },
     "metadata": {
      "needs_background": "light"
     },
     "output_type": "display_data"
    }
   ],
   "source": [
    "plt.subplots(figsize=(12,10))\n",
    "list1=[]\n",
    "for i in movies['cast']:\n",
    "    list1.extend(i)\n",
    "ax=pd.Series(list1).value_counts()[:15].sort_values(ascending=True).plot.barh(width=0.9,color=sns.color_palette('muted',40))\n",
    "for i, v in enumerate(pd.Series(list1).value_counts()[:15].sort_values(ascending=True).values): \n",
    "    ax.text(.8, i, v,fontsize=10,color='white',weight='bold')\n",
    "    plt.title('Actors with highest appearanc')\n",
    "#plt.title('Actors with highest appearance')\n",
    "#plt.show()"
   ]
  },
  {
   "cell_type": "code",
   "execution_count": 25,
   "metadata": {
    "execution": {
     "iopub.execute_input": "2020-08-20T11:29:24.750104Z",
     "iopub.status.busy": "2020-08-20T11:29:24.658474Z",
     "iopub.status.idle": "2020-08-20T11:29:28.656600Z",
     "shell.execute_reply": "2020-08-20T11:29:28.655874Z"
    },
    "papermill": {
     "duration": 4.069937,
     "end_time": "2020-08-20T11:29:28.656730",
     "exception": false,
     "start_time": "2020-08-20T11:29:24.586793",
     "status": "completed"
    },
    "tags": []
   },
   "outputs": [],
   "source": [
    "for i,j in zip(movies['cast'],movies.index):\n",
    "    list2 = []\n",
    "    list2 = i[:4]\n",
    "    movies.loc[j,'cast'] = str(list2)\n",
    "movies['cast'] = movies['cast'].str.strip('[]').str.replace(' ','').str.replace(\"'\",'')\n",
    "movies['cast'] = movies['cast'].str.split(',')\n",
    "for i,j in zip(movies['cast'],movies.index):\n",
    "    list2 = []\n",
    "    list2 = i\n",
    "    list2.sort()\n",
    "    movies.loc[j,'cast'] = str(list2)\n",
    "movies['cast']=movies['cast'].str.strip('[]').str.replace(' ','').str.replace(\"'\",'')"
   ]
  },
  {
   "cell_type": "code",
   "execution_count": 26,
   "metadata": {
    "execution": {
     "iopub.execute_input": "2020-08-20T11:29:28.792209Z",
     "iopub.status.busy": "2020-08-20T11:29:28.771542Z",
     "iopub.status.idle": "2020-08-20T11:29:29.255818Z",
     "shell.execute_reply": "2020-08-20T11:29:29.255105Z"
    },
    "papermill": {
     "duration": 0.583929,
     "end_time": "2020-08-20T11:29:29.255974",
     "exception": false,
     "start_time": "2020-08-20T11:29:28.672045",
     "status": "completed"
    },
    "tags": []
   },
   "outputs": [],
   "source": [
    "castList = []\n",
    "for index, row in movies.iterrows():\n",
    "    cast = row[\"cast\"]\n",
    "    \n",
    "    for i in cast:\n",
    "        if i not in castList:\n",
    "            castList.append(i)"
   ]
  },
  {
   "cell_type": "code",
   "execution_count": 27,
   "metadata": {
    "execution": {
     "iopub.execute_input": "2020-08-20T11:29:29.292692Z",
     "iopub.status.busy": "2020-08-20T11:29:29.291731Z",
     "iopub.status.idle": "2020-08-20T11:29:29.294501Z",
     "shell.execute_reply": "2020-08-20T11:29:29.294973Z"
    },
    "papermill": {
     "duration": 0.023942,
     "end_time": "2020-08-20T11:29:29.295131",
     "exception": false,
     "start_time": "2020-08-20T11:29:29.271189",
     "status": "completed"
    },
    "tags": []
   },
   "outputs": [],
   "source": [
    "def binary(cast_list):\n",
    "    binaryList = []\n",
    "    \n",
    "    for genre in castList:\n",
    "        if genre in cast_list:\n",
    "            binaryList.append(1)\n",
    "        else:\n",
    "            binaryList.append(0)\n",
    "    \n",
    "    return binaryList"
   ]
  },
  {
   "cell_type": "code",
   "execution_count": 28,
   "metadata": {
    "execution": {
     "iopub.execute_input": "2020-08-20T11:29:29.362001Z",
     "iopub.status.busy": "2020-08-20T11:29:29.356757Z",
     "iopub.status.idle": "2020-08-20T11:29:29.423777Z",
     "shell.execute_reply": "2020-08-20T11:29:29.423280Z"
    },
    "papermill": {
     "duration": 0.113677,
     "end_time": "2020-08-20T11:29:29.423931",
     "exception": false,
     "start_time": "2020-08-20T11:29:29.310254",
     "status": "completed"
    },
    "tags": []
   },
   "outputs": [
    {
     "data": {
      "text/plain": [
       "0    [1, 1, 1, 1, 1, 1, 1, 1, 1, 1, 1, 1, 1, 1, 1, ...\n",
       "1    [1, 1, 1, 0, 1, 1, 1, 1, 1, 1, 1, 1, 0, 1, 1, ...\n",
       "2    [1, 1, 0, 1, 1, 1, 1, 1, 1, 1, 1, 1, 1, 1, 1, ...\n",
       "3    [0, 1, 1, 0, 0, 1, 1, 1, 1, 1, 0, 1, 0, 1, 1, ...\n",
       "4    [1, 1, 1, 1, 1, 1, 1, 1, 1, 1, 0, 1, 0, 1, 1, ...\n",
       "Name: cast_bin, dtype: object"
      ]
     },
     "execution_count": 28,
     "metadata": {},
     "output_type": "execute_result"
    }
   ],
   "source": [
    "movies['cast_bin'] = movies['cast'].apply(lambda x: binary(x))\n",
    "movies['cast_bin'].head()"
   ]
  },
  {
   "cell_type": "code",
   "execution_count": 29,
   "metadata": {
    "execution": {
     "iopub.execute_input": "2020-08-20T11:29:29.495940Z",
     "iopub.status.busy": "2020-08-20T11:29:29.495225Z",
     "iopub.status.idle": "2020-08-20T11:29:29.498733Z",
     "shell.execute_reply": "2020-08-20T11:29:29.498068Z"
    },
    "papermill": {
     "duration": 0.02849,
     "end_time": "2020-08-20T11:29:29.498881",
     "exception": false,
     "start_time": "2020-08-20T11:29:29.470391",
     "status": "completed"
    },
    "tags": []
   },
   "outputs": [],
   "source": [
    "def xstr(s):\n",
    "    if s is None:\n",
    "        return ''\n",
    "    return str(s)\n",
    "movies['director'] = movies['director'].apply(xstr)"
   ]
  },
  {
   "cell_type": "code",
   "execution_count": 30,
   "metadata": {
    "execution": {
     "iopub.execute_input": "2020-08-20T11:29:29.544031Z",
     "iopub.status.busy": "2020-08-20T11:29:29.542976Z",
     "iopub.status.idle": "2020-08-20T11:29:29.758829Z",
     "shell.execute_reply": "2020-08-20T11:29:29.758184Z"
    },
    "papermill": {
     "duration": 0.24459,
     "end_time": "2020-08-20T11:29:29.758986",
     "exception": false,
     "start_time": "2020-08-20T11:29:29.514396",
     "status": "completed"
    },
    "tags": []
   },
   "outputs": [
    {
     "data": {
      "text/plain": [
       "Text(0.5, 1.0, 'Directors with highest movies')"
      ]
     },
     "execution_count": 30,
     "metadata": {},
     "output_type": "execute_result"
    },
    {
     "data": {
      "image/png": "[encoded data removed]",
      "text/plain": [
       "<Figure size 864x720 with 1 Axes>"
      ]
     },
     "metadata": {
      "needs_background": "light"
     },
     "output_type": "display_data"
    }
   ],
   "source": [
    "plt.subplots(figsize=(12,10))\n",
    "ax = movies[movies['director']!=''].director.value_counts()[:10].sort_values(ascending=True).plot.barh(width=0.9,color=sns.color_palette('muted',40))\n",
    "for i, v in enumerate(movies[movies['director']!=''].director.value_counts()[:10].sort_values(ascending=True).values): \n",
    "    ax.text(.5, i, v,fontsize=12,color='white',weight='bold')\n",
    "plt.title('Directors with highest movies')\n",
    "#plt.show()"
   ]
  },
  {
   "cell_type": "code",
   "execution_count": 31,
   "metadata": {
    "execution": {
     "iopub.execute_input": "2020-08-20T11:29:29.820333Z",
     "iopub.status.busy": "2020-08-20T11:29:29.815173Z",
     "iopub.status.idle": "2020-08-20T11:29:29.886662Z",
     "shell.execute_reply": "2020-08-20T11:29:29.885982Z"
    },
    "papermill": {
     "duration": 0.111679,
     "end_time": "2020-08-20T11:29:29.886789",
     "exception": false,
     "start_time": "2020-08-20T11:29:29.775110",
     "status": "completed"
    },
    "tags": []
   },
   "outputs": [],
   "source": [
    "directorList=[]\n",
    "for i in movies['director']:\n",
    "    if i not in directorList:\n",
    "        directorList.append(i)"
   ]
  },
  {
   "cell_type": "code",
   "execution_count": 32,
   "metadata": {
    "execution": {
     "iopub.execute_input": "2020-08-20T11:29:29.925645Z",
     "iopub.status.busy": "2020-08-20T11:29:29.924707Z",
     "iopub.status.idle": "2020-08-20T11:29:29.928030Z",
     "shell.execute_reply": "2020-08-20T11:29:29.927386Z"
    },
    "papermill": {
     "duration": 0.025522,
     "end_time": "2020-08-20T11:29:29.928152",
     "exception": false,
     "start_time": "2020-08-20T11:29:29.902630",
     "status": "completed"
    },
    "tags": []
   },
   "outputs": [],
   "source": [
    "def binary(director_list):\n",
    "    binaryList = []  \n",
    "    for direct in directorList:\n",
    "        if direct in director_list:\n",
    "            binaryList.append(1)\n",
    "        else:\n",
    "            binaryList.append(0)\n",
    "    return binaryList"
   ]
  },
  {
   "cell_type": "code",
   "execution_count": 33,
   "metadata": {
    "execution": {
     "iopub.execute_input": "2020-08-20T11:29:30.007090Z",
     "iopub.status.busy": "2020-08-20T11:29:29.970796Z",
     "iopub.status.idle": "2020-08-20T11:29:31.993342Z",
     "shell.execute_reply": "2020-08-20T11:29:31.993787Z"
    },
    "papermill": {
     "duration": 2.049803,
     "end_time": "2020-08-20T11:29:31.993983",
     "exception": false,
     "start_time": "2020-08-20T11:29:29.944180",
     "status": "completed"
    },
    "tags": []
   },
   "outputs": [],
   "source": [
    "movies['director_bin'] = movies['director'].apply(lambda x: binary(x))\n",
    "#movies.head()"
   ]
  },
  {
   "cell_type": "code",
   "execution_count": 34,
   "metadata": {
    "execution": {
     "iopub.execute_input": "2020-08-20T11:29:32.064852Z",
     "iopub.status.busy": "2020-08-20T11:29:32.064191Z",
     "iopub.status.idle": "2020-08-20T11:29:33.022335Z",
     "shell.execute_reply": "2020-08-20T11:29:33.021613Z"
    },
    "papermill": {
     "duration": 0.979156,
     "end_time": "2020-08-20T11:29:33.022460",
     "exception": false,
     "start_time": "2020-08-20T11:29:32.043304",
     "status": "completed"
    },
    "tags": []
   },
   "outputs": [],
   "source": [
    "from wordcloud import WordCloud, STOPWORDS\n",
    "import nltk\n",
    "from nltk.corpus import stopwords"
   ]
  },
  {
   "cell_type": "code",
   "execution_count": 35,
   "metadata": {
    "execution": {
     "iopub.execute_input": "2020-08-20T11:29:33.070322Z",
     "iopub.status.busy": "2020-08-20T11:29:33.065038Z",
     "iopub.status.idle": "2020-08-20T11:29:49.750958Z",
     "shell.execute_reply": "2020-08-20T11:29:49.751500Z"
    },
    "papermill": {
     "duration": 16.712092,
     "end_time": "2020-08-20T11:29:49.751728",
     "exception": false,
     "start_time": "2020-08-20T11:29:33.039636",
     "status": "completed"
    },
    "scrolled": false,
    "tags": []
   },
   "outputs": [
    {
     "ename": "ValueError",
     "evalue": "Only supported for TrueType fonts",
     "output_type": "error",
     "traceback": [
      "\u001b[1;31m---------------------------------------------------------------------------\u001b[0m",
      "\u001b[1;31mValueError\u001b[0m                                Traceback (most recent call last)",
      "Cell \u001b[1;32mIn[35], line 12\u001b[0m\n\u001b[0;32m     10\u001b[0m word\u001b[38;5;241m=\u001b[39m([i \u001b[38;5;28;01mfor\u001b[39;00m i \u001b[38;5;129;01min\u001b[39;00m word\u001b[38;5;241m.\u001b[39mstr\u001b[38;5;241m.\u001b[39mlower() \u001b[38;5;28;01mif\u001b[39;00m i \u001b[38;5;129;01mnot\u001b[39;00m \u001b[38;5;129;01min\u001b[39;00m stop_words])\n\u001b[0;32m     11\u001b[0m wc \u001b[38;5;241m=\u001b[39m WordCloud(background_color\u001b[38;5;241m=\u001b[39m\u001b[38;5;124m\"\u001b[39m\u001b[38;5;124mblack\u001b[39m\u001b[38;5;124m\"\u001b[39m, max_words\u001b[38;5;241m=\u001b[39m\u001b[38;5;241m2000\u001b[39m, stopwords\u001b[38;5;241m=\u001b[39mSTOPWORDS, max_font_size\u001b[38;5;241m=\u001b[39m \u001b[38;5;241m60\u001b[39m,width\u001b[38;5;241m=\u001b[39m\u001b[38;5;241m1000\u001b[39m,height\u001b[38;5;241m=\u001b[39m\u001b[38;5;241m1000\u001b[39m)\n\u001b[1;32m---> 12\u001b[0m \u001b[43mwc\u001b[49m\u001b[38;5;241;43m.\u001b[39;49m\u001b[43mgenerate\u001b[49m\u001b[43m(\u001b[49m\u001b[38;5;124;43m\"\u001b[39;49m\u001b[38;5;124;43m \u001b[39;49m\u001b[38;5;124;43m\"\u001b[39;49m\u001b[38;5;241;43m.\u001b[39;49m\u001b[43mjoin\u001b[49m\u001b[43m(\u001b[49m\u001b[43mword\u001b[49m\u001b[43m)\u001b[49m\u001b[43m)\u001b[49m\n\u001b[0;32m     13\u001b[0m plt\u001b[38;5;241m.\u001b[39mimshow(wc)\n\u001b[0;32m     14\u001b[0m plt\u001b[38;5;241m.\u001b[39maxis(\u001b[38;5;124m'\u001b[39m\u001b[38;5;124moff\u001b[39m\u001b[38;5;124m'\u001b[39m)\n",
      "File \u001b[1;32mc:\\users\\jayesh-pc\\appdata\\local\\programs\\python\\python39\\lib\\site-packages\\wordcloud\\wordcloud.py:639\u001b[0m, in \u001b[0;36mWordCloud.generate\u001b[1;34m(self, text)\u001b[0m\n\u001b[0;32m    624\u001b[0m \u001b[38;5;28;01mdef\u001b[39;00m \u001b[38;5;21mgenerate\u001b[39m(\u001b[38;5;28mself\u001b[39m, text):\n\u001b[0;32m    625\u001b[0m     \u001b[38;5;124;03m\"\"\"Generate wordcloud from text.\u001b[39;00m\n\u001b[0;32m    626\u001b[0m \n\u001b[0;32m    627\u001b[0m \u001b[38;5;124;03m    The input \"text\" is expected to be a natural text. If you pass a sorted\u001b[39;00m\n\u001b[1;32m   (...)\u001b[0m\n\u001b[0;32m    637\u001b[0m \u001b[38;5;124;03m    self\u001b[39;00m\n\u001b[0;32m    638\u001b[0m \u001b[38;5;124;03m    \"\"\"\u001b[39;00m\n\u001b[1;32m--> 639\u001b[0m     \u001b[38;5;28;01mreturn\u001b[39;00m \u001b[38;5;28;43mself\u001b[39;49m\u001b[38;5;241;43m.\u001b[39;49m\u001b[43mgenerate_from_text\u001b[49m\u001b[43m(\u001b[49m\u001b[43mtext\u001b[49m\u001b[43m)\u001b[49m\n",
      "File \u001b[1;32mc:\\users\\jayesh-pc\\appdata\\local\\programs\\python\\python39\\lib\\site-packages\\wordcloud\\wordcloud.py:621\u001b[0m, in \u001b[0;36mWordCloud.generate_from_text\u001b[1;34m(self, text)\u001b[0m\n\u001b[0;32m    604\u001b[0m \u001b[38;5;124;03m\"\"\"Generate wordcloud from text.\u001b[39;00m\n\u001b[0;32m    605\u001b[0m \n\u001b[0;32m    606\u001b[0m \u001b[38;5;124;03mThe input \"text\" is expected to be a natural text. If you pass a sorted\u001b[39;00m\n\u001b[1;32m   (...)\u001b[0m\n\u001b[0;32m    618\u001b[0m \u001b[38;5;124;03mself\u001b[39;00m\n\u001b[0;32m    619\u001b[0m \u001b[38;5;124;03m\"\"\"\u001b[39;00m\n\u001b[0;32m    620\u001b[0m words \u001b[38;5;241m=\u001b[39m \u001b[38;5;28mself\u001b[39m\u001b[38;5;241m.\u001b[39mprocess_text(text)\n\u001b[1;32m--> 621\u001b[0m \u001b[38;5;28;43mself\u001b[39;49m\u001b[38;5;241;43m.\u001b[39;49m\u001b[43mgenerate_from_frequencies\u001b[49m\u001b[43m(\u001b[49m\u001b[43mwords\u001b[49m\u001b[43m)\u001b[49m\n\u001b[0;32m    622\u001b[0m \u001b[38;5;28;01mreturn\u001b[39;00m \u001b[38;5;28mself\u001b[39m\n",
      "File \u001b[1;32mc:\\users\\jayesh-pc\\appdata\\local\\programs\\python\\python39\\lib\\site-packages\\wordcloud\\wordcloud.py:508\u001b[0m, in \u001b[0;36mWordCloud.generate_from_frequencies\u001b[1;34m(self, frequencies, max_font_size)\u001b[0m\n\u001b[0;32m    505\u001b[0m transposed_font \u001b[38;5;241m=\u001b[39m ImageFont\u001b[38;5;241m.\u001b[39mTransposedFont(\n\u001b[0;32m    506\u001b[0m     font, orientation\u001b[38;5;241m=\u001b[39morientation)\n\u001b[0;32m    507\u001b[0m \u001b[38;5;66;03m# get size of resulting text\u001b[39;00m\n\u001b[1;32m--> 508\u001b[0m box_size \u001b[38;5;241m=\u001b[39m \u001b[43mdraw\u001b[49m\u001b[38;5;241;43m.\u001b[39;49m\u001b[43mtextbbox\u001b[49m\u001b[43m(\u001b[49m\u001b[43m(\u001b[49m\u001b[38;5;241;43m0\u001b[39;49m\u001b[43m,\u001b[49m\u001b[43m \u001b[49m\u001b[38;5;241;43m0\u001b[39;49m\u001b[43m)\u001b[49m\u001b[43m,\u001b[49m\u001b[43m \u001b[49m\u001b[43mword\u001b[49m\u001b[43m,\u001b[49m\u001b[43m \u001b[49m\u001b[43mfont\u001b[49m\u001b[38;5;241;43m=\u001b[39;49m\u001b[43mtransposed_font\u001b[49m\u001b[43m,\u001b[49m\u001b[43m \u001b[49m\u001b[43manchor\u001b[49m\u001b[38;5;241;43m=\u001b[39;49m\u001b[38;5;124;43m\"\u001b[39;49m\u001b[38;5;124;43mlt\u001b[39;49m\u001b[38;5;124;43m\"\u001b[39;49m\u001b[43m)\u001b[49m\n\u001b[0;32m    509\u001b[0m \u001b[38;5;66;03m# find possible places using integral image:\u001b[39;00m\n\u001b[0;32m    510\u001b[0m result \u001b[38;5;241m=\u001b[39m occupancy\u001b[38;5;241m.\u001b[39msample_position(box_size[\u001b[38;5;241m3\u001b[39m] \u001b[38;5;241m+\u001b[39m \u001b[38;5;28mself\u001b[39m\u001b[38;5;241m.\u001b[39mmargin,\n\u001b[0;32m    511\u001b[0m                                    box_size[\u001b[38;5;241m2\u001b[39m] \u001b[38;5;241m+\u001b[39m \u001b[38;5;28mself\u001b[39m\u001b[38;5;241m.\u001b[39mmargin,\n\u001b[0;32m    512\u001b[0m                                    random_state)\n",
      "File \u001b[1;32mc:\\users\\jayesh-pc\\appdata\\local\\programs\\python\\python39\\lib\\site-packages\\PIL\\ImageDraw.py:651\u001b[0m, in \u001b[0;36mImageDraw.textbbox\u001b[1;34m(self, xy, text, font, anchor, spacing, align, direction, features, language, stroke_width, embedded_color)\u001b[0m\n\u001b[0;32m    649\u001b[0m     font \u001b[38;5;241m=\u001b[39m \u001b[38;5;28mself\u001b[39m\u001b[38;5;241m.\u001b[39mgetfont()\n\u001b[0;32m    650\u001b[0m \u001b[38;5;28;01mif\u001b[39;00m \u001b[38;5;129;01mnot\u001b[39;00m \u001b[38;5;28misinstance\u001b[39m(font, ImageFont\u001b[38;5;241m.\u001b[39mFreeTypeFont):\n\u001b[1;32m--> 651\u001b[0m     \u001b[38;5;28;01mraise\u001b[39;00m \u001b[38;5;167;01mValueError\u001b[39;00m(\u001b[38;5;124m\"\u001b[39m\u001b[38;5;124mOnly supported for TrueType fonts\u001b[39m\u001b[38;5;124m\"\u001b[39m)\n\u001b[0;32m    652\u001b[0m mode \u001b[38;5;241m=\u001b[39m \u001b[38;5;124m\"\u001b[39m\u001b[38;5;124mRGBA\u001b[39m\u001b[38;5;124m\"\u001b[39m \u001b[38;5;28;01mif\u001b[39;00m embedded_color \u001b[38;5;28;01melse\u001b[39;00m \u001b[38;5;28mself\u001b[39m\u001b[38;5;241m.\u001b[39mfontmode\n\u001b[0;32m    653\u001b[0m bbox \u001b[38;5;241m=\u001b[39m font\u001b[38;5;241m.\u001b[39mgetbbox(\n\u001b[0;32m    654\u001b[0m     text, mode, direction, features, language, stroke_width, anchor\n\u001b[0;32m    655\u001b[0m )\n",
      "\u001b[1;31mValueError\u001b[0m: Only supported for TrueType fonts"
     ]
    },
    {
     "data": {
      "image/png": "[encoded data removed]",
      "text/plain": [
       "<Figure size 864x864 with 1 Axes>"
      ]
     },
     "metadata": {
      "needs_background": "light"
     },
     "output_type": "display_data"
    }
   ],
   "source": [
    "plt.subplots(figsize=(12,12))\n",
    "stop_words = set(stopwords.words('english'))\n",
    "stop_words.update(',',';','!','?','.','(',')','$','#','+',':','...',' ','')\n",
    "\n",
    "words=movies['keywords'].dropna().apply(nltk.word_tokenize)\n",
    "word=[]\n",
    "for i in words:\n",
    "    word.extend(i)\n",
    "word=pd.Series(word)\n",
    "word=([i for i in word.str.lower() if i not in stop_words])\n",
    "wc = WordCloud(background_color=\"black\", max_words=2000, stopwords=STOPWORDS, max_font_size= 60,width=1000,height=1000)\n",
    "wc.generate(\" \".join(word))\n",
    "plt.imshow(wc)\n",
    "plt.axis('off')\n",
    "fig=plt.gcf()\n",
    "fig.set_size_inches(10,10)\n",
    "#plt.show()"
   ]
  },
  {
   "cell_type": "code",
   "execution_count": null,
   "metadata": {
    "execution": {
     "iopub.execute_input": "2020-08-20T11:29:49.887382Z",
     "iopub.status.busy": "2020-08-20T11:29:49.869278Z",
     "iopub.status.idle": "2020-08-20T11:29:53.724293Z",
     "shell.execute_reply": "2020-08-20T11:29:53.723661Z"
    },
    "papermill": {
     "duration": 3.900074,
     "end_time": "2020-08-20T11:29:53.724428",
     "exception": false,
     "start_time": "2020-08-20T11:29:49.824354",
     "status": "completed"
    },
    "tags": []
   },
   "outputs": [],
   "source": [
    "movies['keywords'] = movies['keywords'].str.strip('[]').str.replace(' ','').str.replace(\"'\",'').str.replace('\"','')\n",
    "movies['keywords'] = movies['keywords'].str.split(',')\n",
    "for i,j in zip(movies['keywords'],movies.index):\n",
    "    list2 = []\n",
    "    list2 = i\n",
    "    movies.loc[j,'keywords'] = str(list2)\n",
    "movies['keywords'] = movies['keywords'].str.strip('[]').str.replace(' ','').str.replace(\"'\",'')\n",
    "movies['keywords'] = movies['keywords'].str.split(',')\n",
    "for i,j in zip(movies['keywords'],movies.index):\n",
    "    list2 = []\n",
    "    list2 = i\n",
    "    list2.sort()\n",
    "    movies.loc[j,'keywords'] = str(list2)\n",
    "movies['keywords'] = movies['keywords'].str.strip('[]').str.replace(' ','').str.replace(\"'\",'')\n",
    "movies['keywords'] = movies['keywords'].str.split(',')"
   ]
  },
  {
   "cell_type": "code",
   "execution_count": null,
   "metadata": {
    "execution": {
     "iopub.execute_input": "2020-08-20T11:29:53.796159Z",
     "iopub.status.busy": "2020-08-20T11:29:53.779352Z",
     "iopub.status.idle": "2020-08-20T11:29:56.169809Z",
     "shell.execute_reply": "2020-08-20T11:29:56.169006Z"
    },
    "papermill": {
     "duration": 2.420923,
     "end_time": "2020-08-20T11:29:56.169967",
     "exception": false,
     "start_time": "2020-08-20T11:29:53.749044",
     "status": "completed"
    },
    "tags": []
   },
   "outputs": [],
   "source": [
    "words_list = []\n",
    "for index, row in movies.iterrows():\n",
    "    genres = row[\"keywords\"]\n",
    "    \n",
    "    for genre in genres:\n",
    "        if genre not in words_list:\n",
    "            words_list.append(genre)"
   ]
  },
  {
   "cell_type": "code",
   "execution_count": null,
   "metadata": {
    "execution": {
     "iopub.execute_input": "2020-08-20T11:29:56.226665Z",
     "iopub.status.busy": "2020-08-20T11:29:56.225629Z",
     "iopub.status.idle": "2020-08-20T11:29:56.229090Z",
     "shell.execute_reply": "2020-08-20T11:29:56.228427Z"
    },
    "papermill": {
     "duration": 0.034244,
     "end_time": "2020-08-20T11:29:56.229236",
     "exception": false,
     "start_time": "2020-08-20T11:29:56.194992",
     "status": "completed"
    },
    "tags": []
   },
   "outputs": [],
   "source": [
    "def binary(words):\n",
    "    binaryList = []\n",
    "    for genre in words_list:\n",
    "        if genre in words:\n",
    "            binaryList.append(1)\n",
    "        else:\n",
    "            binaryList.append(0)\n",
    "    return binaryList"
   ]
  },
  {
   "cell_type": "code",
   "execution_count": null,
   "metadata": {
    "execution": {
     "iopub.execute_input": "2020-08-20T11:29:56.315431Z",
     "iopub.status.busy": "2020-08-20T11:29:56.310179Z",
     "iopub.status.idle": "2020-08-20T11:30:08.037419Z",
     "shell.execute_reply": "2020-08-20T11:30:08.036802Z"
    },
    "papermill": {
     "duration": 11.783472,
     "end_time": "2020-08-20T11:30:08.037546",
     "exception": false,
     "start_time": "2020-08-20T11:29:56.254074",
     "status": "completed"
    },
    "tags": []
   },
   "outputs": [],
   "source": [
    "movies['words_bin'] = movies['keywords'].apply(lambda x: binary(x))\n",
    "movies = movies[(movies['vote_average']!=0)] #removing the movies with 0 score and without drector names \n",
    "movies = movies[movies['director']!='']"
   ]
  },
  {
   "cell_type": "code",
   "execution_count": null,
   "metadata": {
    "execution": {
     "iopub.execute_input": "2020-08-20T11:30:08.198179Z",
     "iopub.status.busy": "2020-08-20T11:30:08.197000Z",
     "iopub.status.idle": "2020-08-20T11:30:08.201327Z",
     "shell.execute_reply": "2020-08-20T11:30:08.200521Z"
    },
    "papermill": {
     "duration": 0.038312,
     "end_time": "2020-08-20T11:30:08.201469",
     "exception": false,
     "start_time": "2020-08-20T11:30:08.163157",
     "status": "completed"
    },
    "tags": []
   },
   "outputs": [],
   "source": [
    "from scipy import spatial\n",
    "\n",
    "def Similarity(movieId1, movieId2):\n",
    "    a = movies.iloc[movieId1]\n",
    "    b = movies.iloc[movieId2]\n",
    "    \n",
    "    genresA = a['genres_bin']\n",
    "    genresB = b['genres_bin']\n",
    "    \n",
    "    genreDistance = spatial.distance.cosine(genresA, genresB)\n",
    "    \n",
    "    scoreA = a['cast_bin']\n",
    "    scoreB = b['cast_bin']\n",
    "    scoreDistance = spatial.distance.cosine(scoreA, scoreB)\n",
    "    \n",
    "    directA = a['director_bin']\n",
    "    directB = b['director_bin']\n",
    "    directDistance = spatial.distance.cosine(directA, directB)\n",
    "    \n",
    "    wordsA = a['words_bin']\n",
    "    wordsB = b['words_bin']\n",
    "    wordsDistance = spatial.distance.cosine(directA, directB)\n",
    "    return genreDistance + directDistance + scoreDistance + wordsDistance"
   ]
  },
  {
   "cell_type": "code",
   "execution_count": null,
   "metadata": {
    "execution": {
     "iopub.execute_input": "2020-08-20T11:30:08.259680Z",
     "iopub.status.busy": "2020-08-20T11:30:08.258933Z",
     "iopub.status.idle": "2020-08-20T11:30:08.264285Z",
     "shell.execute_reply": "2020-08-20T11:30:08.263593Z"
    },
    "papermill": {
     "duration": 0.037789,
     "end_time": "2020-08-20T11:30:08.264424",
     "exception": false,
     "start_time": "2020-08-20T11:30:08.226635",
     "status": "completed"
    },
    "tags": []
   },
   "outputs": [],
   "source": [
    "Similarity(3,160) #checking similarity between any 2 random movies"
   ]
  },
  {
   "cell_type": "markdown",
   "metadata": {
    "papermill": {
     "duration": 0.024054,
     "end_time": "2020-08-20T11:30:08.313274",
     "exception": false,
     "start_time": "2020-08-20T11:30:08.289220",
     "status": "completed"
    },
    "tags": []
   },
   "source": [
    "We see that the distance is about 2.068, which is high. The more the distance, the less similar the movies are. Let's see what these random movies actually were."
   ]
  },
  {
   "cell_type": "code",
   "execution_count": null,
   "metadata": {
    "execution": {
     "iopub.execute_input": "2020-08-20T11:30:08.377285Z",
     "iopub.status.busy": "2020-08-20T11:30:08.376463Z",
     "iopub.status.idle": "2020-08-20T11:30:08.380896Z",
     "shell.execute_reply": "2020-08-20T11:30:08.380365Z"
    },
    "papermill": {
     "duration": 0.04316,
     "end_time": "2020-08-20T11:30:08.381043",
     "exception": false,
     "start_time": "2020-08-20T11:30:08.337883",
     "status": "completed"
    },
    "tags": []
   },
   "outputs": [],
   "source": [
    "#print(movies.iloc[3])\n",
    "#print(movies.iloc[160])"
   ]
  },
  {
   "cell_type": "markdown",
   "metadata": {
    "papermill": {
     "duration": 0.025526,
     "end_time": "2020-08-20T11:30:08.431070",
     "exception": false,
     "start_time": "2020-08-20T11:30:08.405544",
     "status": "completed"
    },
    "tags": []
   },
   "source": [
    "It is evident that The Dark Knight Rises and How to train your Dragon 2 are very different movies. Thus the distance is huge.\n",
    "\n"
   ]
  },
  {
   "cell_type": "code",
   "execution_count": null,
   "metadata": {
    "execution": {
     "iopub.execute_input": "2020-08-20T11:30:08.509641Z",
     "iopub.status.busy": "2020-08-20T11:30:08.488722Z",
     "iopub.status.idle": "2020-08-20T11:30:08.534218Z",
     "shell.execute_reply": "2020-08-20T11:30:08.533651Z"
    },
    "papermill": {
     "duration": 0.078597,
     "end_time": "2020-08-20T11:30:08.534350",
     "exception": false,
     "start_time": "2020-08-20T11:30:08.455753",
     "status": "completed"
    },
    "tags": []
   },
   "outputs": [],
   "source": [
    "new_id = list(range(0,movies.shape[0]))\n",
    "movies['new_id']=new_id\n",
    "movies=movies[['original_title','genres','vote_average','genres_bin','cast_bin','new_id','director','director_bin','words_bin']]\n",
    "#movies.head()"
   ]
  },
  {
   "cell_type": "code",
   "execution_count": null,
   "metadata": {
    "execution": {
     "iopub.execute_input": "2020-08-20T11:30:08.647608Z",
     "iopub.status.busy": "2020-08-20T11:30:08.646815Z",
     "iopub.status.idle": "2020-08-20T11:30:08.650396Z",
     "shell.execute_reply": "2020-08-20T11:30:08.649666Z"
    },
    "papermill": {
     "duration": 0.042196,
     "end_time": "2020-08-20T11:30:08.650527",
     "exception": false,
     "start_time": "2020-08-20T11:30:08.608331",
     "status": "completed"
    },
    "tags": []
   },
   "outputs": [],
   "source": [
    "import operator\n",
    "\n",
    "def predict(name):\n",
    "    #name = input('Enter a movie title: ')\n",
    "    new_movie = movies[movies['original_title'].str.contains(name)].iloc[0].to_frame().T\n",
    "    print('Selected Movie: ',new_movie.original_title.values[0])\n",
    "    def getNeighbors(baseMovie, K):\n",
    "        distances = []\n",
    "    \n",
    "        for index, movie in movies.iterrows():\n",
    "            if movie['new_id'] != baseMovie['new_id'].values[0]:\n",
    "                dist = Similarity(baseMovie['new_id'].values[0], movie['new_id'])\n",
    "                distances.append((movie['new_id'], dist))\n",
    "    \n",
    "        distances.sort(key=operator.itemgetter(1))\n",
    "        neighbors = []\n",
    "    \n",
    "        for x in range(K):\n",
    "            neighbors.append(distances[x])\n",
    "        return neighbors\n",
    "\n",
    "    K = 10\n",
    "    avgRating = 0\n",
    "    neighbors = getNeighbors(new_movie, K)\n",
    "    \n",
    "    print('\\nRecommended Movies: \\n')\n",
    "    for neighbor in neighbors:\n",
    "        avgRating = avgRating+movies.iloc[neighbor[0]][2]  \n",
    "        print( movies.iloc[neighbor[0]][0]+\" | Genres: \"+str(movies.iloc[neighbor[0]][1]).strip('[]').replace(' ','')+\" | Rating: \"+str(movies.iloc[neighbor[0]][2]))\n",
    "    \n",
    "    print('\\n')\n",
    "    avgRating = avgRating/K\n",
    "   # print('The predicted rating for %s is: %f' %(new_movie['original_title'].values[0],avgRating))\n",
    "   # print('The actual rating for %s is %f' %(new_movie['original_title'].values[0],new_movie['vote_average']))"
   ]
  },
  {
   "cell_type": "code",
   "execution_count": null,
   "metadata": {
    "execution": {
     "iopub.execute_input": "2020-08-20T11:30:08.712811Z",
     "iopub.status.busy": "2020-08-20T11:30:08.712046Z",
     "iopub.status.idle": "2020-08-20T11:30:16.481821Z",
     "shell.execute_reply": "2020-08-20T11:30:16.482333Z"
    },
    "papermill": {
     "duration": 7.80585,
     "end_time": "2020-08-20T11:30:16.482553",
     "exception": false,
     "start_time": "2020-08-20T11:30:08.676703",
     "status": "completed"
    },
    "tags": []
   },
   "outputs": [],
   "source": [
    "predict('Savages')"
   ]
  },
  {
   "cell_type": "code",
   "execution_count": null,
   "metadata": {
    "execution": {
     "iopub.execute_input": "2020-08-20T11:30:16.545447Z",
     "iopub.status.busy": "2020-08-20T11:30:16.541988Z",
     "iopub.status.idle": "2020-08-20T11:30:24.055914Z",
     "shell.execute_reply": "2020-08-20T11:30:24.055354Z"
    },
    "papermill": {
     "duration": 7.548388,
     "end_time": "2020-08-20T11:30:24.056058",
     "exception": false,
     "start_time": "2020-08-20T11:30:16.507670",
     "status": "completed"
    },
    "tags": []
   },
   "outputs": [],
   "source": [
    "predict('Donnie Darko')"
   ]
  },
  {
   "cell_type": "code",
   "execution_count": null,
   "metadata": {
    "execution": {
     "iopub.execute_input": "2020-08-20T11:30:24.116916Z",
     "iopub.status.busy": "2020-08-20T11:30:24.115772Z",
     "iopub.status.idle": "2020-08-20T11:30:31.655065Z",
     "shell.execute_reply": "2020-08-20T11:30:31.653319Z"
    },
    "papermill": {
     "duration": 7.57421,
     "end_time": "2020-08-20T11:30:31.655283",
     "exception": false,
     "start_time": "2020-08-20T11:30:24.081073",
     "status": "completed"
    },
    "tags": []
   },
   "outputs": [],
   "source": [
    "predict('Notting Hill')"
   ]
  },
  {
   "cell_type": "code",
   "execution_count": null,
   "metadata": {
    "execution": {
     "iopub.execute_input": "2020-08-20T11:30:31.722089Z",
     "iopub.status.busy": "2020-08-20T11:30:31.715145Z",
     "iopub.status.idle": "2020-08-20T11:30:39.182959Z",
     "shell.execute_reply": "2020-08-20T11:30:39.182062Z"
    },
    "papermill": {
     "duration": 7.502195,
     "end_time": "2020-08-20T11:30:39.183122",
     "exception": false,
     "start_time": "2020-08-20T11:30:31.680927",
     "status": "completed"
    },
    "scrolled": true,
    "tags": []
   },
   "outputs": [],
   "source": [
    "predict('Hop')"
   ]
  },
  {
   "cell_type": "code",
   "execution_count": null,
   "metadata": {
    "execution": {
     "iopub.execute_input": "2020-08-20T11:30:39.239828Z",
     "iopub.status.busy": "2020-08-20T11:30:39.239174Z",
     "iopub.status.idle": "2020-08-20T11:30:39.242575Z",
     "shell.execute_reply": "2020-08-20T11:30:39.242013Z"
    },
    "papermill": {
     "duration": 0.033435,
     "end_time": "2020-08-20T11:30:39.242697",
     "exception": false,
     "start_time": "2020-08-20T11:30:39.209262",
     "status": "completed"
    },
    "tags": []
   },
   "outputs": [],
   "source": [
    "predict('Toy Story 2')"
   ]
  },
  {
   "cell_type": "code",
   "execution_count": null,
   "metadata": {},
   "outputs": [],
   "source": [
    "import nltk\n",
    "nltk.download('punkt')\n",
    "from nltk import sent_tokenize"
   ]
  },
  {
   "cell_type": "code",
   "execution_count": null,
   "metadata": {},
   "outputs": [],
   "source": [
    "predict"
   ]
  }
 ],
 "metadata": {
  "kernelspec": {
   "display_name": "Python 3 (ipykernel)",
   "language": "python",
   "name": "python3"
  },
  "language_info": {
   "codemirror_mode": {
    "name": "ipython",
    "version": 3
   },
   "file_extension": ".py",
   "mimetype": "text/x-python",
   "name": "python",
   "nbconvert_exporter": "python",
   "pygments_lexer": "ipython3",
   "version": "3.9.0"
  },
  "papermill": {
   "duration": 94.973716,
   "end_time": "2020-08-20T11:30:39.428214",
   "environment_variables": {},
   "exception": null,
   "input_path": "__notebook__.ipynb",
   "output_path": "__notebook__.ipynb",
   "parameters": {},
   "start_time": "2020-08-20T11:29:04.454498",
   "version": "2.1.0"
  }
 },
 "nbformat": 4,
 "nbformat_minor": 4
}
